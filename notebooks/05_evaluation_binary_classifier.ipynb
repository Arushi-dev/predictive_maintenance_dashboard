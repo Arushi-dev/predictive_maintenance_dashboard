{
 "cells": [
  {
   "cell_type": "code",
   "execution_count": 2,
   "id": "1b7340a5-17c5-4c8d-bf93-80e5155eecdf",
   "metadata": {},
   "outputs": [
    {
     "name": "stdout",
     "output_type": "stream",
     "text": [
      "Collecting matplotlib\n",
      "  Using cached matplotlib-3.10.6-cp311-cp311-win_amd64.whl.metadata (11 kB)\n",
      "Collecting seaborn\n",
      "  Using cached seaborn-0.13.2-py3-none-any.whl.metadata (5.4 kB)\n",
      "Collecting scikit-learn\n",
      "  Using cached scikit_learn-1.7.2-cp311-cp311-win_amd64.whl.metadata (11 kB)\n",
      "Collecting contourpy>=1.0.1 (from matplotlib)\n",
      "  Using cached contourpy-1.3.3-cp311-cp311-win_amd64.whl.metadata (5.5 kB)\n",
      "Collecting cycler>=0.10 (from matplotlib)\n",
      "  Using cached cycler-0.12.1-py3-none-any.whl.metadata (3.8 kB)\n",
      "Collecting fonttools>=4.22.0 (from matplotlib)\n",
      "  Downloading fonttools-4.60.0-cp311-cp311-win_amd64.whl.metadata (113 kB)\n",
      "     ---------------------------------------- 0.0/113.8 kB ? eta -:--:--\n",
      "     --- ------------------------------------ 10.2/113.8 kB ? eta -:--:--\n",
      "     --------- --------------------------- 30.7/113.8 kB 435.7 kB/s eta 0:00:01\n",
      "     ------------------- ----------------- 61.4/113.8 kB 465.5 kB/s eta 0:00:01\n",
      "     ------------------------------------ 113.8/113.8 kB 734.7 kB/s eta 0:00:00\n",
      "Collecting kiwisolver>=1.3.1 (from matplotlib)\n",
      "  Using cached kiwisolver-1.4.9-cp311-cp311-win_amd64.whl.metadata (6.4 kB)\n",
      "Collecting numpy>=1.23 (from matplotlib)\n",
      "  Downloading numpy-2.3.3-cp311-cp311-win_amd64.whl.metadata (60 kB)\n",
      "     ---------------------------------------- 0.0/60.9 kB ? eta -:--:--\n",
      "     ---------------------------------------- 60.9/60.9 kB 3.2 MB/s eta 0:00:00\n",
      "Requirement already satisfied: packaging>=20.0 in c:\\users\\arushi sharma\\appdata\\local\\programs\\python\\python311\\lib\\site-packages (from matplotlib) (25.0)\n",
      "Collecting pillow>=8 (from matplotlib)\n",
      "  Using cached pillow-11.3.0-cp311-cp311-win_amd64.whl.metadata (9.2 kB)\n",
      "Collecting pyparsing>=2.3.1 (from matplotlib)\n",
      "  Downloading pyparsing-3.2.5-py3-none-any.whl.metadata (5.0 kB)\n",
      "Requirement already satisfied: python-dateutil>=2.7 in c:\\users\\arushi sharma\\appdata\\local\\programs\\python\\python311\\lib\\site-packages (from matplotlib) (2.9.0.post0)\n",
      "Collecting pandas>=1.2 (from seaborn)\n",
      "  Using cached pandas-2.3.2-cp311-cp311-win_amd64.whl.metadata (19 kB)\n",
      "Collecting scipy>=1.8.0 (from scikit-learn)\n",
      "  Downloading scipy-1.16.2-cp311-cp311-win_amd64.whl.metadata (60 kB)\n",
      "     ---------------------------------------- 0.0/60.8 kB ? eta -:--:--\n",
      "     ---------------------------------------- 60.8/60.8 kB 3.2 MB/s eta 0:00:00\n",
      "Collecting joblib>=1.2.0 (from scikit-learn)\n",
      "  Using cached joblib-1.5.2-py3-none-any.whl.metadata (5.6 kB)\n",
      "Collecting threadpoolctl>=3.1.0 (from scikit-learn)\n",
      "  Using cached threadpoolctl-3.6.0-py3-none-any.whl.metadata (13 kB)\n",
      "Collecting pytz>=2020.1 (from pandas>=1.2->seaborn)\n",
      "  Using cached pytz-2025.2-py2.py3-none-any.whl.metadata (22 kB)\n",
      "Collecting tzdata>=2022.7 (from pandas>=1.2->seaborn)\n",
      "  Using cached tzdata-2025.2-py2.py3-none-any.whl.metadata (1.4 kB)\n",
      "Requirement already satisfied: six>=1.5 in c:\\users\\arushi sharma\\appdata\\local\\programs\\python\\python311\\lib\\site-packages (from python-dateutil>=2.7->matplotlib) (1.17.0)\n",
      "Using cached matplotlib-3.10.6-cp311-cp311-win_amd64.whl (8.1 MB)\n",
      "Using cached seaborn-0.13.2-py3-none-any.whl (294 kB)\n",
      "Using cached scikit_learn-1.7.2-cp311-cp311-win_amd64.whl (8.9 MB)\n",
      "Using cached contourpy-1.3.3-cp311-cp311-win_amd64.whl (225 kB)\n",
      "Using cached cycler-0.12.1-py3-none-any.whl (8.3 kB)\n",
      "Downloading fonttools-4.60.0-cp311-cp311-win_amd64.whl (2.3 MB)\n",
      "   ---------------------------------------- 0.0/2.3 MB ? eta -:--:--\n",
      "   ------------------ --------------------- 1.0/2.3 MB 33.4 MB/s eta 0:00:01\n",
      "   ---------------------------- ----------- 1.6/2.3 MB 20.9 MB/s eta 0:00:01\n",
      "   ---------------------------------------- 2.3/2.3 MB 20.8 MB/s eta 0:00:00\n",
      "Using cached joblib-1.5.2-py3-none-any.whl (308 kB)\n",
      "Using cached kiwisolver-1.4.9-cp311-cp311-win_amd64.whl (73 kB)\n",
      "Downloading numpy-2.3.3-cp311-cp311-win_amd64.whl (13.1 MB)\n",
      "   ---------------------------------------- 0.0/13.1 MB ? eta -:--:--\n",
      "   -- ------------------------------------- 0.8/13.1 MB 17.2 MB/s eta 0:00:01\n",
      "   ----- ---------------------------------- 1.8/13.1 MB 19.1 MB/s eta 0:00:01\n",
      "   ------ --------------------------------- 2.2/13.1 MB 20.0 MB/s eta 0:00:01\n",
      "   ------- -------------------------------- 2.6/13.1 MB 15.1 MB/s eta 0:00:01\n",
      "   ---------- ----------------------------- 3.5/13.1 MB 16.0 MB/s eta 0:00:01\n",
      "   ------------- -------------------------- 4.5/13.1 MB 16.8 MB/s eta 0:00:01\n",
      "   ---------------- ----------------------- 5.5/13.1 MB 17.5 MB/s eta 0:00:01\n",
      "   ------------------- -------------------- 6.4/13.1 MB 17.7 MB/s eta 0:00:01\n",
      "   ---------------------- ----------------- 7.2/13.1 MB 17.8 MB/s eta 0:00:01\n",
      "   ------------------------ --------------- 8.1/13.1 MB 17.8 MB/s eta 0:00:01\n",
      "   --------------------------- ------------ 8.9/13.1 MB 17.8 MB/s eta 0:00:01\n",
      "   ----------------------------- ---------- 9.7/13.1 MB 17.8 MB/s eta 0:00:01\n",
      "   -------------------------------- ------- 10.6/13.1 MB 17.7 MB/s eta 0:00:01\n",
      "   ----------------------------------- ---- 11.5/13.1 MB 17.7 MB/s eta 0:00:01\n",
      "   ------------------------------------- -- 12.3/13.1 MB 17.2 MB/s eta 0:00:01\n",
      "   ---------------------------------------  13.1/13.1 MB 19.3 MB/s eta 0:00:01\n",
      "   ---------------------------------------- 13.1/13.1 MB 17.2 MB/s eta 0:00:00\n",
      "Using cached pandas-2.3.2-cp311-cp311-win_amd64.whl (11.3 MB)\n",
      "Using cached pillow-11.3.0-cp311-cp311-win_amd64.whl (7.0 MB)\n",
      "Downloading pyparsing-3.2.5-py3-none-any.whl (113 kB)\n",
      "   ---------------------------------------- 0.0/113.9 kB ? eta -:--:--\n",
      "   ---------------------------------------- 113.9/113.9 kB 6.9 MB/s eta 0:00:00\n",
      "Downloading scipy-1.16.2-cp311-cp311-win_amd64.whl (38.7 MB)\n",
      "   ---------------------------------------- 0.0/38.7 MB ? eta -:--:--\n",
      "   - -------------------------------------- 1.2/38.7 MB 40.0 MB/s eta 0:00:01\n",
      "   -- ------------------------------------- 2.1/38.7 MB 26.7 MB/s eta 0:00:02\n",
      "   --- ------------------------------------ 2.9/38.7 MB 23.4 MB/s eta 0:00:02\n",
      "   --- ------------------------------------ 3.8/38.7 MB 22.1 MB/s eta 0:00:02\n",
      "   ---- ----------------------------------- 4.7/38.7 MB 21.2 MB/s eta 0:00:02\n",
      "   ----- ---------------------------------- 5.5/38.7 MB 20.6 MB/s eta 0:00:02\n",
      "   ------ --------------------------------- 6.4/38.7 MB 20.3 MB/s eta 0:00:02\n",
      "   ------- -------------------------------- 7.2/38.7 MB 20.0 MB/s eta 0:00:02\n",
      "   -------- ------------------------------- 8.0/38.7 MB 19.8 MB/s eta 0:00:02\n",
      "   --------- ------------------------------ 8.9/38.7 MB 19.6 MB/s eta 0:00:02\n",
      "   ---------- ----------------------------- 9.7/38.7 MB 20.1 MB/s eta 0:00:02\n",
      "   ---------- ----------------------------- 10.4/38.7 MB 19.3 MB/s eta 0:00:02\n",
      "   ----------- ---------------------------- 11.4/38.7 MB 18.7 MB/s eta 0:00:02\n",
      "   ------------ --------------------------- 12.3/38.7 MB 18.7 MB/s eta 0:00:02\n",
      "   ------------- -------------------------- 13.1/38.7 MB 18.7 MB/s eta 0:00:02\n",
      "   -------------- ------------------------- 14.0/38.7 MB 18.7 MB/s eta 0:00:02\n",
      "   --------------- ------------------------ 14.8/38.7 MB 18.7 MB/s eta 0:00:02\n",
      "   ---------------- ----------------------- 15.6/38.7 MB 18.7 MB/s eta 0:00:02\n",
      "   ----------------- ---------------------- 16.5/38.7 MB 18.2 MB/s eta 0:00:02\n",
      "   ----------------- ---------------------- 17.3/38.7 MB 18.2 MB/s eta 0:00:02\n",
      "   ------------------ --------------------- 18.2/38.7 MB 18.2 MB/s eta 0:00:02\n",
      "   ------------------- -------------------- 19.0/38.7 MB 18.2 MB/s eta 0:00:02\n",
      "   -------------------- ------------------- 19.8/38.7 MB 18.7 MB/s eta 0:00:02\n",
      "   --------------------- ------------------ 20.7/38.7 MB 19.3 MB/s eta 0:00:01\n",
      "   ---------------------- ----------------- 21.5/38.7 MB 18.7 MB/s eta 0:00:01\n",
      "   ----------------------- ---------------- 22.4/38.7 MB 18.7 MB/s eta 0:00:01\n",
      "   ------------------------ --------------- 23.2/38.7 MB 18.7 MB/s eta 0:00:01\n",
      "   ------------------------ --------------- 24.1/38.7 MB 18.7 MB/s eta 0:00:01\n",
      "   ------------------------- -------------- 24.9/38.7 MB 18.7 MB/s eta 0:00:01\n",
      "   -------------------------- ------------- 25.8/38.7 MB 18.7 MB/s eta 0:00:01\n",
      "   --------------------------- ------------ 26.6/38.7 MB 18.7 MB/s eta 0:00:01\n",
      "   ---------------------------- ----------- 27.5/38.7 MB 18.2 MB/s eta 0:00:01\n",
      "   ----------------------------- ---------- 28.3/38.7 MB 18.2 MB/s eta 0:00:01\n",
      "   ------------------------------ --------- 29.1/38.7 MB 18.2 MB/s eta 0:00:01\n",
      "   ------------------------------- -------- 30.0/38.7 MB 18.2 MB/s eta 0:00:01\n",
      "   ------------------------------- -------- 30.8/38.7 MB 18.2 MB/s eta 0:00:01\n",
      "   -------------------------------- ------- 31.7/38.7 MB 18.7 MB/s eta 0:00:01\n",
      "   --------------------------------- ------ 32.5/38.7 MB 18.7 MB/s eta 0:00:01\n",
      "   ---------------------------------- ----- 33.2/38.7 MB 18.2 MB/s eta 0:00:01\n",
      "   ----------------------------------- ---- 34.1/38.7 MB 18.7 MB/s eta 0:00:01\n",
      "   ------------------------------------ --- 35.1/38.7 MB 18.7 MB/s eta 0:00:01\n",
      "   ------------------------------------- -- 35.9/38.7 MB 18.7 MB/s eta 0:00:01\n",
      "   ------------------------------------- -- 36.7/38.7 MB 18.7 MB/s eta 0:00:01\n",
      "   -------------------------------------- - 37.5/38.7 MB 18.2 MB/s eta 0:00:01\n",
      "   ---------------------------------------  38.5/38.7 MB 18.2 MB/s eta 0:00:01\n",
      "   ---------------------------------------  38.7/38.7 MB 18.2 MB/s eta 0:00:01\n",
      "   ---------------------------------------  38.7/38.7 MB 18.2 MB/s eta 0:00:01\n",
      "   ---------------------------------------- 38.7/38.7 MB 15.9 MB/s eta 0:00:00\n",
      "Using cached threadpoolctl-3.6.0-py3-none-any.whl (18 kB)\n",
      "Using cached pytz-2025.2-py2.py3-none-any.whl (509 kB)\n",
      "Using cached tzdata-2025.2-py2.py3-none-any.whl (347 kB)\n",
      "Installing collected packages: pytz, tzdata, threadpoolctl, pyparsing, pillow, numpy, kiwisolver, joblib, fonttools, cycler, scipy, pandas, contourpy, scikit-learn, matplotlib, seaborn\n",
      "Successfully installed contourpy-1.3.3 cycler-0.12.1 fonttools-4.60.0 joblib-1.5.2 kiwisolver-1.4.9 matplotlib-3.10.6 numpy-2.3.3 pandas-2.3.2 pillow-11.3.0 pyparsing-3.2.5 pytz-2025.2 scikit-learn-1.7.2 scipy-1.16.2 seaborn-0.13.2 threadpoolctl-3.6.0 tzdata-2025.2\n",
      "Note: you may need to restart the kernel to use updated packages.\n"
     ]
    },
    {
     "name": "stderr",
     "output_type": "stream",
     "text": [
      "\n",
      "[notice] A new release of pip is available: 24.0 -> 25.2\n",
      "[notice] To update, run: python.exe -m pip install --upgrade pip\n"
     ]
    }
   ],
   "source": [
    "pip install matplotlib seaborn scikit-learn\n"
   ]
  },
  {
   "cell_type": "code",
   "execution_count": 3,
   "id": "5f563386-f903-4fda-a07c-780c87def66e",
   "metadata": {},
   "outputs": [
    {
     "name": "stdout",
     "output_type": "stream",
     "text": [
      "Requirement already satisfied: pandas in c:\\users\\arushi sharma\\appdata\\local\\programs\\python\\python311\\lib\\site-packages (2.3.2)\n",
      "Requirement already satisfied: numpy in c:\\users\\arushi sharma\\appdata\\local\\programs\\python\\python311\\lib\\site-packages (2.3.3)\n",
      "Requirement already satisfied: python-dateutil>=2.8.2 in c:\\users\\arushi sharma\\appdata\\local\\programs\\python\\python311\\lib\\site-packages (from pandas) (2.9.0.post0)\n",
      "Requirement already satisfied: pytz>=2020.1 in c:\\users\\arushi sharma\\appdata\\local\\programs\\python\\python311\\lib\\site-packages (from pandas) (2025.2)\n",
      "Requirement already satisfied: tzdata>=2022.7 in c:\\users\\arushi sharma\\appdata\\local\\programs\\python\\python311\\lib\\site-packages (from pandas) (2025.2)\n",
      "Requirement already satisfied: six>=1.5 in c:\\users\\arushi sharma\\appdata\\local\\programs\\python\\python311\\lib\\site-packages (from python-dateutil>=2.8.2->pandas) (1.17.0)\n",
      "Note: you may need to restart the kernel to use updated packages.\n"
     ]
    },
    {
     "name": "stderr",
     "output_type": "stream",
     "text": [
      "\n",
      "[notice] A new release of pip is available: 24.0 -> 25.2\n",
      "[notice] To update, run: python.exe -m pip install --upgrade pip\n"
     ]
    }
   ],
   "source": [
    "pip install pandas numpy\n"
   ]
  },
  {
   "cell_type": "code",
   "execution_count": 9,
   "id": "848c93e1-1861-43c9-8935-8a1699c79b62",
   "metadata": {},
   "outputs": [
    {
     "name": "stdout",
     "output_type": "stream",
     "text": [
      "Collecting xgboost\n",
      "  Using cached xgboost-3.0.5-py3-none-win_amd64.whl.metadata (2.1 kB)\n",
      "Requirement already satisfied: numpy in c:\\users\\arushi sharma\\appdata\\local\\programs\\python\\python311\\lib\\site-packages (from xgboost) (2.3.3)\n",
      "Requirement already satisfied: scipy in c:\\users\\arushi sharma\\appdata\\local\\programs\\python\\python311\\lib\\site-packages (from xgboost) (1.16.2)\n",
      "Using cached xgboost-3.0.5-py3-none-win_amd64.whl (56.8 MB)\n",
      "Installing collected packages: xgboost\n",
      "Successfully installed xgboost-3.0.5\n"
     ]
    },
    {
     "name": "stderr",
     "output_type": "stream",
     "text": [
      "\n",
      "[notice] A new release of pip is available: 24.0 -> 25.2\n",
      "[notice] To update, run: python.exe -m pip install --upgrade pip\n"
     ]
    }
   ],
   "source": [
    "!pip install xgboost\n"
   ]
  },
  {
   "cell_type": "code",
   "execution_count": 1,
   "id": "0a7283a5-2892-412e-8044-1b5f390ef243",
   "metadata": {},
   "outputs": [],
   "source": [
    "import matplotlib.pyplot as plt\n",
    "import seaborn as sns\n",
    "from sklearn.metrics import roc_auc_score, roc_curve, confusion_matrix, ConfusionMatrixDisplay\n",
    "import numpy as np\n",
    "import os\n"
   ]
  },
  {
   "cell_type": "code",
   "execution_count": 3,
   "id": "781bcc1c-a8da-45c1-a448-29f844b89ab3",
   "metadata": {},
   "outputs": [
    {
     "name": "stdout",
     "output_type": "stream",
     "text": [
      "✅ ROC-AUC plot saved.\n"
     ]
    },
    {
     "data": {
      "text/plain": [
       "<Figure size 800x600 with 0 Axes>"
      ]
     },
     "metadata": {},
     "output_type": "display_data"
    }
   ],
   "source": [
    "from pathlib import Path\n",
    "import pandas as pd\n",
    "import joblib\n",
    "import matplotlib.pyplot as plt\n",
    "from sklearn.metrics import roc_curve, roc_auc_score\n",
    "from sklearn.model_selection import train_test_split\n",
    "\n",
    "# Step 1: Set Correct Project Path (1 level up from notebooks/)\n",
    "PROJECT_ROOT = Path().resolve().parent\n",
    "DATA_DIR = PROJECT_ROOT / \"data\"\n",
    "MODELS_DIR = PROJECT_ROOT / \"models\"\n",
    "OUTPUTS_DIR = PROJECT_ROOT / \"outputs\"\n",
    "\n",
    "# Step 2: Load model and data\n",
    "clf = joblib.load(MODELS_DIR / \"xgb_binary_classifier.pkl\")\n",
    "df = pd.read_csv(DATA_DIR / \"processed_sensor_data.csv\")\n",
    "df['label'] = (df['RUL'] < 20).astype(int)\n",
    "\n",
    "# Step 3: Split test data\n",
    "units = df['unit'].unique()\n",
    "_, test_units = train_test_split(units, test_size=0.2, random_state=42)\n",
    "test_df = df[df['unit'].isin(test_units)]\n",
    "\n",
    "exclude_cols = ['unit', 'cycle', 'RUL', 'label']\n",
    "features = [col for col in df.columns if col not in exclude_cols]\n",
    "X_test = test_df[features]\n",
    "y_test = test_df['label']\n",
    "\n",
    "# Step 4: Predict + ROC-AUC Plot\n",
    "y_probs = clf.predict_proba(X_test)[:, 1]\n",
    "fpr, tpr, _ = roc_curve(y_test, y_probs)\n",
    "roc_auc = roc_auc_score(y_test, y_probs)\n",
    "\n",
    "plt.figure(figsize=(8, 6))\n",
    "plt.plot(fpr, tpr, label=f\"ROC Curve (AUC = {roc_auc:.2f})\", color=\"navy\")\n",
    "plt.plot([0, 1], [0, 1], linestyle='--', color='gray')\n",
    "plt.xlabel(\"False Positive Rate\")\n",
    "plt.ylabel(\"True Positive Rate\")\n",
    "plt.title(\"ROC-AUC Curve – Failure Prediction\")\n",
    "plt.legend()\n",
    "plt.grid(True)\n",
    "plt.tight_layout()\n",
    "plt.savefig(OUTPUTS_DIR / \"roc_auc_curve.png\", dpi=300)\n",
    "plt.clf()\n",
    "print(\"✅ ROC-AUC plot saved.\")\n"
   ]
  },
  {
   "cell_type": "code",
   "execution_count": 4,
   "id": "09138c1a-5ebd-4c0f-ae54-f859e74195e5",
   "metadata": {},
   "outputs": [
    {
     "name": "stdout",
     "output_type": "stream",
     "text": [
      "✅ Confusion matrix plot saved.\n"
     ]
    },
    {
     "data": {
      "text/plain": [
       "<Figure size 600x500 with 0 Axes>"
      ]
     },
     "metadata": {},
     "output_type": "display_data"
    }
   ],
   "source": [
    "# ✅ What: Visualizes true/false positives and negatives\n",
    "# 🤔 Why: Gives insight into model’s classification accuracy\n",
    "# 🛠️ How: Use sklearn's confusion_matrix and heatmap\n",
    "\n",
    "# Predict labels\n",
    "y_pred = clf.predict(X_test)\n",
    "\n",
    "# Generate matrix\n",
    "cm = confusion_matrix(y_test, y_pred)\n",
    "labels = [\"Healthy\", \"Will Fail Soon\"]\n",
    "\n",
    "# Plot\n",
    "plt.figure(figsize=(6, 5))\n",
    "sns.heatmap(cm, annot=True, fmt='d', cmap='Blues',\n",
    "            xticklabels=labels, yticklabels=labels)\n",
    "plt.xlabel(\"Predicted Label\")\n",
    "plt.ylabel(\"True Label\")\n",
    "plt.title(\"Confusion Matrix – Failure Classification\")\n",
    "\n",
    "# Save\n",
    "plt.tight_layout()\n",
    "plt.savefig(\"outputs/confusion_matrix.png\", dpi=300)\n",
    "plt.clf()\n",
    "print(\"✅ Confusion matrix plot saved.\")\n"
   ]
  },
  {
   "cell_type": "code",
   "execution_count": 9,
   "id": "01a97f56-9686-4636-999d-adc769585567",
   "metadata": {},
   "outputs": [
    {
     "name": "stderr",
     "output_type": "stream",
     "text": [
      "C:\\Users\\Arushi Sharma\\AppData\\Local\\Temp\\ipykernel_26196\\1487304339.py:39: FutureWarning: \n",
      "\n",
      "Passing `palette` without assigning `hue` is deprecated and will be removed in v0.14.0. Assign the `y` variable to `hue` and set `legend=False` for the same effect.\n",
      "\n",
      "  sns.barplot(x=\"Importance\", y=\"Feature\", data=importance_df.head(15), palette=\"viridis\")\n"
     ]
    },
    {
     "name": "stdout",
     "output_type": "stream",
     "text": [
      "✅ Feature importance plot saved.\n"
     ]
    },
    {
     "data": {
      "text/plain": [
       "<Figure size 1000x600 with 0 Axes>"
      ]
     },
     "metadata": {},
     "output_type": "display_data"
    }
   ],
   "source": [
    "# ✅ What: Bar plot of most important sensor features\n",
    "# 🤔 Why: Shows which features the model used most in decision-making\n",
    "# 🛠️ How: Use XGBoost's built-in feature_importances_ attribute\n",
    "\n",
    "# ---------------------------------------------\n",
    "# ✅ Step 0: Prepare Train Data for Reference\n",
    "# ---------------------------------------------\n",
    "from sklearn.model_selection import train_test_split\n",
    "\n",
    "# Reload full dataset\n",
    "df = pd.read_csv(DATA_DIR / \"processed_sensor_data.csv\")\n",
    "df['label'] = (df['RUL'] < 20).astype(int)\n",
    "\n",
    "# Split units\n",
    "units = df['unit'].unique()\n",
    "train_units, test_units = train_test_split(units, test_size=0.2, random_state=42)\n",
    "\n",
    "# Filter rows\n",
    "train_df = df[df['unit'].isin(train_units)]\n",
    "\n",
    "# Features/target\n",
    "target = 'label'\n",
    "exclude_cols = ['unit', 'cycle', 'RUL', 'label']\n",
    "features = [col for col in df.columns if col not in exclude_cols]\n",
    "\n",
    "X_train = train_df[features]\n",
    "\n",
    "\n",
    "# Extract feature importance\n",
    "importances = clf.feature_importances_\n",
    "feature_names = X_train.columns\n",
    "importance_df = pd.DataFrame({\n",
    "    \"Feature\": feature_names,\n",
    "    \"Importance\": importances\n",
    "}).sort_values(by=\"Importance\", ascending=False)\n",
    "\n",
    "# Plot\n",
    "plt.figure(figsize=(10, 6))\n",
    "sns.barplot(x=\"Importance\", y=\"Feature\", data=importance_df.head(15), palette=\"viridis\")\n",
    "plt.title(\"Top 15 Important Features – XGBoost Classifier\")\n",
    "plt.tight_layout()\n",
    "plt.savefig(OUTPUTS_DIR / \"feature_importance.png\", dpi=300)\n",
    "plt.clf()\n",
    "print(\"✅ Feature importance plot saved.\")\n",
    "\n"
   ]
  },
  {
   "cell_type": "code",
   "execution_count": null,
   "id": "3b185ccd-8222-4752-b0c3-5600c55f00e9",
   "metadata": {},
   "outputs": [],
   "source": []
  }
 ],
 "metadata": {
  "kernelspec": {
   "display_name": "Python 3 (ipykernel)",
   "language": "python",
   "name": "python3"
  },
  "language_info": {
   "codemirror_mode": {
    "name": "ipython",
    "version": 3
   },
   "file_extension": ".py",
   "mimetype": "text/x-python",
   "name": "python",
   "nbconvert_exporter": "python",
   "pygments_lexer": "ipython3",
   "version": "3.11.9"
  }
 },
 "nbformat": 4,
 "nbformat_minor": 5
}
