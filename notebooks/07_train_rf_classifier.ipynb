{
 "cells": [
  {
   "cell_type": "code",
   "execution_count": 4,
   "id": "a6265a26-7931-4e3b-a432-c496f3bdd62b",
   "metadata": {},
   "outputs": [],
   "source": [
    "from pathlib import Path\n",
    "import pandas as pd\n",
    "import joblib\n",
    "from sklearn.ensemble import RandomForestClassifier\n",
    "from sklearn.model_selection import train_test_split\n",
    "from sklearn.metrics import classification_report, roc_auc_score\n",
    "\n",
    "# ✅ Manually set the correct root path (update if your folder is elsewhere)\n",
    "PROJECT_ROOT = Path(r\"C:\\Users\\Arushi Sharma\\Downloads\\predictive_maintenance\")\n",
    "\n",
    "# ✅ Define subfolders\n",
    "DATA_DIR = PROJECT_ROOT / \"data\"\n",
    "MODELS_DIR = PROJECT_ROOT / \"models\"\n",
    "MODELS_DIR.mkdir(exist_ok=True)\n"
   ]
  },
  {
   "cell_type": "code",
   "execution_count": 6,
   "id": "2ea20b08-2397-497b-ac43-df9b7cfc40ba",
   "metadata": {},
   "outputs": [
    {
     "name": "stdout",
     "output_type": "stream",
     "text": [
      "📊 Classification Report:\n",
      "               precision    recall  f1-score   support\n",
      "\n",
      "           0       0.98      0.99      0.99      3615\n",
      "           1       0.94      0.86      0.90       432\n",
      "\n",
      "    accuracy                           0.98      4047\n",
      "   macro avg       0.96      0.93      0.94      4047\n",
      "weighted avg       0.98      0.98      0.98      4047\n",
      "\n",
      "🔵 ROC-AUC Score: 0.9964121971210491\n",
      "✅ Saved: rf_binary_classifier.pkl\n"
     ]
    }
   ],
   "source": [
    "# Load preprocessed data\n",
    "df = pd.read_csv(DATA_DIR / \"processed_sensor_data.csv\")\n",
    "\n",
    "# Dynamically create label column: 1 if RUL < 20 else 0\n",
    "df['label'] = (df['RUL'] < 20).astype(int)\n",
    "\n",
    "# Features and target\n",
    "X = df.drop(columns=[\"unit\", \"cycle\", \"RUL\", \"label\"])\n",
    "y = df[\"label\"]\n",
    "\n",
    "# Train/test split\n",
    "from sklearn.model_selection import train_test_split\n",
    "X_train, X_test, y_train, y_test = train_test_split(X, y, test_size=0.2, random_state=42)\n",
    "\n",
    "# Train Random Forest\n",
    "from sklearn.ensemble import RandomForestClassifier\n",
    "rf_clf = RandomForestClassifier(n_estimators=100, max_depth=10, random_state=42)\n",
    "rf_clf.fit(X_train, y_train)\n",
    "\n",
    "# Evaluate\n",
    "from sklearn.metrics import classification_report, roc_auc_score\n",
    "y_pred = rf_clf.predict(X_test)\n",
    "print(\"📊 Classification Report:\\n\", classification_report(y_test, y_pred))\n",
    "print(\"🔵 ROC-AUC Score:\", roc_auc_score(y_test, rf_clf.predict_proba(X_test)[:, 1]))\n",
    "\n",
    "# Save model\n",
    "import joblib\n",
    "joblib.dump(rf_clf, MODELS_DIR / \"rf_binary_classifier.pkl\")\n",
    "print(\"✅ Saved: rf_binary_classifier.pkl\")\n"
   ]
  },
  {
   "cell_type": "code",
   "execution_count": null,
   "id": "2939d1b2-410b-450f-afa6-9c2958888107",
   "metadata": {},
   "outputs": [],
   "source": []
  }
 ],
 "metadata": {
  "kernelspec": {
   "display_name": "Python 3 (ipykernel)",
   "language": "python",
   "name": "python3"
  },
  "language_info": {
   "codemirror_mode": {
    "name": "ipython",
    "version": 3
   },
   "file_extension": ".py",
   "mimetype": "text/x-python",
   "name": "python",
   "nbconvert_exporter": "python",
   "pygments_lexer": "ipython3",
   "version": "3.11.9"
  }
 },
 "nbformat": 4,
 "nbformat_minor": 5
}
